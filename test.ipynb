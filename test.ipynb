{
 "cells": [
  {
   "cell_type": "code",
   "execution_count": null,
   "metadata": {},
   "outputs": [],
   "source": [
    "import numpy as np \n",
    "import requests\n",
    "import numpy as np\n",
    "url='http://165.22.250.235/api/assessment/matthewhoujh@gmail.com?date=09-07-2020'\n",
    "\n",
    "g=requests.get(url)\n",
    "submission_header={'X-Assessment-Token': g.headers['X-Assessment-Token']}"
   ]
  },
  {
   "cell_type": "code",
   "execution_count": null,
   "metadata": {},
   "outputs": [],
   "source": [
    "numbers=g.text.replace(\":\",\",\")\n",
    "numbers=numbers.replace('\"','')#.split(\",\")[3:]\n",
    "numbers=numbers.replace('}','').split(\",\")[3:]"
   ]
  },
  {
   "cell_type": "code",
   "execution_count": null,
   "metadata": {},
   "outputs": [],
   "source": [
    "number_list=[]\n",
    "for x in numbers:\n",
    "    x.replace(\"''\",\"\")\n",
    "    number_list.append(float(x))"
   ]
  },
  {
   "cell_type": "code",
   "execution_count": null,
   "metadata": {},
   "outputs": [],
   "source": [
    "submission={\n",
    "    'email':'matthewhoujh@gmail.com',\n",
    "    'date': '09-07-2020',\n",
    "    'samples': g.text[45:-2],\n",
    "    'mean': np.mean(number_list),\n",
    "    'variance': np.var(number_list),\n",
    "    'argmax': np.argmax(number_list),\n",
    "    'fileUrl':'https://github.com/Houster/test',\n",
    "    'myWork':True\n",
    "}"
   ]
  },
  {
   "cell_type": "code",
   "execution_count": null,
   "metadata": {},
   "outputs": [],
   "source": [
    "requests.post('http://165.22.250.235/api/assessment',data=submission,headers=submission_header)#.headers['Content-Type']='application/x-www-form-urlencoded'"
   ]
  },
  {
   "cell_type": "code",
   "execution_count": null,
   "metadata": {},
   "outputs": [],
   "source": []
  },
  {
   "cell_type": "code",
   "execution_count": null,
   "metadata": {
    "scrolled": true
   },
   "outputs": [],
   "source": []
  },
  {
   "cell_type": "code",
   "execution_count": null,
   "metadata": {},
   "outputs": [],
   "source": []
  },
  {
   "cell_type": "code",
   "execution_count": null,
   "metadata": {},
   "outputs": [],
   "source": []
  },
  {
   "cell_type": "code",
   "execution_count": null,
   "metadata": {},
   "outputs": [],
   "source": []
  }
 ],
 "metadata": {
  "kernelspec": {
   "display_name": "Python 3",
   "language": "python",
   "name": "python3"
  },
  "language_info": {
   "codemirror_mode": {
    "name": "ipython",
    "version": 3
   },
   "file_extension": ".py",
   "mimetype": "text/x-python",
   "name": "python",
   "nbconvert_exporter": "python",
   "pygments_lexer": "ipython3",
   "version": "3.7.7"
  }
 },
 "nbformat": 4,
 "nbformat_minor": 4
}
