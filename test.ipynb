{
 "cells": [
  {
   "cell_type": "code",
   "execution_count": 56,
   "metadata": {},
   "outputs": [],
   "source": [
    "import numpy as np \n",
    "import requests\n",
    "import numpy as np\n",
    "url='http://165.22.250.235/api/assessment/matthewhoujh@gmail.com?date=09-07-2020'\n",
    "\n",
    "g=requests.get(url)"
   ]
  },
  {
   "cell_type": "code",
   "execution_count": 57,
   "metadata": {},
   "outputs": [],
   "source": [
    "numbers=g.text.replace(\":\",\",\")\n",
    "numbers=numbers.replace('\"','')#.split(\",\")[3:]\n",
    "numbers=numbers.replace('}','').split(\",\")[3:]"
   ]
  },
  {
   "cell_type": "code",
   "execution_count": 58,
   "metadata": {},
   "outputs": [],
   "source": [
    "number_list=[]\n",
    "for x in numbers:\n",
    "    x.replace(\"''\",\"\")\n",
    "    number_list.append(float(x))"
   ]
  },
  {
   "cell_type": "code",
   "execution_count": null,
   "metadata": {},
   "outputs": [],
   "source": [
    "submission={\n",
    "    'email':'matthewhoujh@gmail.com',\n",
    "    'date': '09-07-2020',\n",
    "    'samples': \n",
    "    'mean': np.mean(number_list),\n",
    "    'variance': np.var(number_list),\n",
    "    'argmax': np.argmax(number_list),\n",
    "    ''\n",
    "}"
   ]
  },
  {
   "cell_type": "code",
   "execution_count": 14,
   "metadata": {},
   "outputs": [
    {
     "data": {
      "text/plain": [
       "3181.3063329742035"
      ]
     },
     "execution_count": 14,
     "metadata": {},
     "output_type": "execute_result"
    }
   ],
   "source": [
    "np.var(list)"
   ]
  },
  {
   "cell_type": "code",
   "execution_count": 15,
   "metadata": {},
   "outputs": [
    {
     "data": {
      "text/plain": [
       "19"
      ]
     },
     "execution_count": 15,
     "metadata": {},
     "output_type": "execute_result"
    }
   ],
   "source": [
    "np.argmax(list)"
   ]
  },
  {
   "cell_type": "code",
   "execution_count": 16,
   "metadata": {},
   "outputs": [
    {
     "data": {
      "text/plain": [
       "196.996"
      ]
     },
     "execution_count": 16,
     "metadata": {},
     "output_type": "execute_result"
    }
   ],
   "source": [
    "max(list)"
   ]
  },
  {
   "cell_type": "code",
   "execution_count": 61,
   "metadata": {},
   "outputs": [
    {
     "data": {
      "text/plain": [
       "['54.846',\n",
       " '12.277',\n",
       " '176.045',\n",
       " '22.868',\n",
       " '110.721',\n",
       " '101.1',\n",
       " '138.605',\n",
       " '70.585',\n",
       " '27.666',\n",
       " '94.9',\n",
       " '94.82',\n",
       " '6.486',\n",
       " '185.901',\n",
       " '166.898',\n",
       " '31.054',\n",
       " '120.79',\n",
       " '90.1',\n",
       " '190.569',\n",
       " '16.414',\n",
       " '182.851',\n",
       " '70.709',\n",
       " '160.716',\n",
       " '126.065',\n",
       " '158.683',\n",
       " '49.483',\n",
       " '108.478',\n",
       " '162.853',\n",
       " '176.254',\n",
       " '120.344',\n",
       " '125.574',\n",
       " '187.786',\n",
       " '59.181',\n",
       " '174.631',\n",
       " '145.682',\n",
       " '147.908',\n",
       " '186.522',\n",
       " '33.754',\n",
       " '9.575',\n",
       " '93.187',\n",
       " '85.513',\n",
       " '134.338',\n",
       " '132.367',\n",
       " '33.928',\n",
       " '11.944',\n",
       " '11.106',\n",
       " '143.685',\n",
       " '185.603',\n",
       " '2.176',\n",
       " '30.121',\n",
       " '9.999',\n",
       " '124.021',\n",
       " '73.333',\n",
       " '154.069',\n",
       " '103.819',\n",
       " '34.259',\n",
       " '196.3']"
      ]
     },
     "execution_count": 61,
     "metadata": {},
     "output_type": "execute_result"
    }
   ],
   "source": [
    "str(numbers"
   ]
  },
  {
   "cell_type": "code",
   "execution_count": null,
   "metadata": {},
   "outputs": [],
   "source": []
  },
  {
   "cell_type": "code",
   "execution_count": null,
   "metadata": {},
   "outputs": [],
   "source": []
  }
 ],
 "metadata": {
  "kernelspec": {
   "display_name": "Python 3",
   "language": "python",
   "name": "python3"
  },
  "language_info": {
   "codemirror_mode": {
    "name": "ipython",
    "version": 3
   },
   "file_extension": ".py",
   "mimetype": "text/x-python",
   "name": "python",
   "nbconvert_exporter": "python",
   "pygments_lexer": "ipython3",
   "version": "3.7.7"
  }
 },
 "nbformat": 4,
 "nbformat_minor": 4
}
