{
 "cells": [
  {
   "cell_type": "code",
   "execution_count": 102,
   "metadata": {},
   "outputs": [],
   "source": [
    "import numpy as np \n",
    "import requests\n",
    "import numpy as np\n",
    "url='http://165.22.250.235/api/assessment/matthewhoujh@gmail.com?date=09-07-2020'\n",
    "\n",
    "g=requests.get(url)\n",
    "submission_header={'X-Assessment-Token': g.headers['X-Assessment-Token']}"
   ]
  },
  {
   "cell_type": "code",
   "execution_count": 103,
   "metadata": {},
   "outputs": [],
   "source": [
    "numbers=g.text.replace(\":\",\",\")\n",
    "numbers=numbers.replace('\"','')#.split(\",\")[3:]\n",
    "numbers=numbers.replace('}','').split(\",\")[3:]"
   ]
  },
  {
   "cell_type": "code",
   "execution_count": 104,
   "metadata": {},
   "outputs": [],
   "source": [
    "number_list=[]\n",
    "for x in numbers:\n",
    "    x.replace(\"''\",\"\")\n",
    "    number_list.append(float(x))"
   ]
  },
  {
   "cell_type": "code",
   "execution_count": 105,
   "metadata": {},
   "outputs": [],
   "source": [
    "submission={\n",
    "    'email':'matthewhoujh@gmail.com',\n",
    "    'date': '09-07-2020',\n",
    "    'samples': g.text[45:-2],\n",
    "    'mean': np.mean(number_list),\n",
    "    'variance': np.var(number_list),\n",
    "    'argmax': np.argmax(number_list),\n",
    "    'fileUrl':'https://github.com/Houster/test',\n",
    "    'myWork':True\n",
    "}"
   ]
  },
  {
   "cell_type": "code",
   "execution_count": 113,
   "metadata": {},
   "outputs": [],
   "source": [
    "requests.post('http://165.22.250.235/api/assessment',data=submission,headers=submission_header).headers['Content-Type']='application/x-www-form-urlencoded'"
   ]
  },
  {
   "cell_type": "code",
   "execution_count": 114,
   "metadata": {},
   "outputs": [
    {
     "data": {
      "text/plain": [
       "{'Server': 'nginx', 'Date': 'Tue, 25 Aug 2020 12:45:15 GMT', 'Content-Type': 'application/json; charset=utf-8', 'Content-Length': '54', 'Connection': 'keep-alive', 'Access-Control-Allow-Origin': '*', 'ETag': 'W/\"36-lGslis28TN2zI906cgrQSfoM1sE\"'}"
      ]
     },
     "execution_count": 114,
     "metadata": {},
     "output_type": "execute_result"
    }
   ],
   "source": [
    "x.headers"
   ]
  },
  {
   "cell_type": "code",
   "execution_count": 112,
   "metadata": {
    "scrolled": true
   },
   "outputs": [
    {
     "data": {
      "text/plain": [
       "{'Server': 'nginx', 'Date': 'Tue, 25 Aug 2020 12:43:47 GMT', 'Content-Type': 'application/json; charset=utf-8', 'Content-Length': '294', 'Connection': 'keep-alive', 'Access-Control-Allow-Origin': '*', 'X-Assessment-Token': 'eyJhbGciOiJIUzI1NiIsInR5cCI6IkpXVCJ9.eyJzdWIiOiJtYXR0aGV3aG91amhAZ21haWwuY29tIiwiaXNzIjoiaHR0cHM6Ly93d3cuaXNzLm51cy5lZHUuc2cvZXhlY3V0aXZlLWVkdWNhdGlvbi9kaXNjaXBsaW5lL2RldGFpbC9zdGFja3VwLS0tc3RhcnR1cC10ZWNoLXRhbGVudC1kZXZlbG9wbWVudCIsImlhdCI6MTU5ODM1OTQyNy42NzQsImV4cCI6MTU5ODM1OTQ1Ny42NzQsImRhdGEiOnsic2FtcGxlcyI6IjE2LjA3OSwxNzYuODAxLDEyMC4xMjQsMTY2LjQzMywxMTEuODUyLDExMy43MjYsMTY5LjkyMSwxNzguODUxLDE0My4yOTYsNC44MzQsMTcxLjYxMiw4MC40MjYsMTc4LjU2NCwxNjAuNjgyLDExLjczOCwxODIuMzg1LDM0LjExNywxOTEuNjg1LDEyMS4wMTEsMTM5LjczOCwxNjEuMTExLDIxLjcsMTg1LjExMiwxNC41NzIsNS44NTEsMTQyLjkyLDE0OC43MTIsNzIuMDM1LDE4LjI1MSwxMDUuMzI0LDE5NS40OSwxMTQuNzczLDEwNS40MTEifX0.KOweH2f3LLGA6ZPm28AW0GVelHICnYE8LDvG3MLt0BU', 'ETag': 'W/\"126-3jOBChB7oefkmac1dFrwrUAYOsQ\"'}"
      ]
     },
     "execution_count": 112,
     "metadata": {},
     "output_type": "execute_result"
    }
   ],
   "source": [
    "g.headers"
   ]
  },
  {
   "cell_type": "code",
   "execution_count": null,
   "metadata": {},
   "outputs": [],
   "source": []
  },
  {
   "cell_type": "code",
   "execution_count": null,
   "metadata": {},
   "outputs": [],
   "source": []
  },
  {
   "cell_type": "code",
   "execution_count": null,
   "metadata": {},
   "outputs": [],
   "source": []
  }
 ],
 "metadata": {
  "kernelspec": {
   "display_name": "Python 3",
   "language": "python",
   "name": "python3"
  },
  "language_info": {
   "codemirror_mode": {
    "name": "ipython",
    "version": 3
   },
   "file_extension": ".py",
   "mimetype": "text/x-python",
   "name": "python",
   "nbconvert_exporter": "python",
   "pygments_lexer": "ipython3",
   "version": "3.7.7"
  }
 },
 "nbformat": 4,
 "nbformat_minor": 4
}
